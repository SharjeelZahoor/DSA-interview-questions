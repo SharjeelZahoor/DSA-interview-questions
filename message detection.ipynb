{
  "cells": [
    {
      "cell_type": "markdown",
      "metadata": {
        "id": "view-in-github",
        "colab_type": "text"
      },
      "source": [
        "<a href=\"https://colab.research.google.com/github/SharjeelZahoor/DSA-interview-questions/blob/main/message%20detection.ipynb\" target=\"_parent\"><img src=\"https://colab.research.google.com/assets/colab-badge.svg\" alt=\"Open In Colab\"/></a>"
      ]
    },
    {
      "cell_type": "markdown",
      "source": [
        "𝐂𝐨𝐬𝐦𝐢𝐜 𝐌𝐞𝐬𝐬𝐚𝐠𝐞𝐬: 𝐃𝐞𝐭𝐞𝐜𝐭𝐢𝐧𝐠 𝐀𝐥𝐭𝐞𝐫𝐞𝐝 𝐒𝐎𝐒 𝐒𝐢𝐠𝐧𝐚𝐥𝐬"
      ],
      "metadata": {
        "id": "vjyh77eZ6b3C"
      }
    },
    {
      "cell_type": "markdown",
      "source": [
        "An interesting problem involving SOS messages sent from Mars! The challenge was to determine how many letters in the received signal were altered during transmission due to cosmic radiation."
      ],
      "metadata": {
        "id": "2TQ-KXwi6YPa"
      }
    },
    {
      "cell_type": "markdown",
      "source": [
        "Problem Breakdown:\n",
        "\n",
        "•\tOriginal Message: The consistent SOS signal pattern.\n",
        "\n",
        "•\tReceived Signal: May have altered characters due to cosmic interference.\n",
        "\n",
        "•\tGoal: Calculate the number of discrepancies between the expected and received signals.\n",
        "\n",
        "For instance, given the received signal \"SOSSPSSQSSOR,\" the solution involves comparing it to the expected repeating \"SOSSOS\" pattern. The discrepancy count reveals how many characters were changed during transmission.\n"
      ],
      "metadata": {
        "id": "SkwNZD8I6X8G"
      }
    },
    {
      "cell_type": "code",
      "source": [
        "def marsExploration(s):\n",
        "    # Write your code here\n",
        "    realsos=\"\"\n",
        "    message_sos = len(s) // 3\n",
        "    for i in range(message_sos):\n",
        "        realsos = realsos + \"SOS\"\n",
        "    count = 0\n",
        "    for i in range(len(s)):\n",
        "        if s[i]!=realsos[i]:\n",
        "            count+=1\n",
        "\n",
        "    return count\n",
        "\n",
        "s = \"SOSSOT\"\n",
        "print(marsExploration(s))"
      ],
      "metadata": {
        "colab": {
          "base_uri": "https://localhost:8080/"
        },
        "id": "pKg91OTK58O1",
        "outputId": "2f3f3a7f-b0bb-4be4-fd18-fa18ceba1ad3"
      },
      "execution_count": 20,
      "outputs": [
        {
          "output_type": "stream",
          "name": "stdout",
          "text": [
            "1\n"
          ]
        }
      ]
    }
  ],
  "metadata": {
    "colab": {
      "provenance": [],
      "authorship_tag": "ABX9TyN+IYzpCBkyrMbeWOgteqFP",
      "include_colab_link": true
    },
    "kernelspec": {
      "display_name": "Python 3",
      "name": "python3"
    },
    "language_info": {
      "name": "python"
    }
  },
  "nbformat": 4,
  "nbformat_minor": 0
}