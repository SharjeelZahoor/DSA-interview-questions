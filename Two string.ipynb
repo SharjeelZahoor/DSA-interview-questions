{
  "cells": [
    {
      "cell_type": "markdown",
      "metadata": {
        "id": "view-in-github",
        "colab_type": "text"
      },
      "source": [
        "<a href=\"https://colab.research.google.com/github/SharjeelZahoor/Problem-Solving-Interview-Problems/blob/main/Two%20string.ipynb\" target=\"_parent\"><img src=\"https://colab.research.google.com/assets/colab-badge.svg\" alt=\"Open In Colab\"/></a>"
      ]
    },
    {
      "cell_type": "markdown",
      "source": [
        "Two Strings 🧠💻\n",
        "\n",
        "The challenge was to determine if two strings share any common characters and\n",
        " return a result based on that. To tackle this, I used Python’s built-in data structures to efficiently compare the strings and find if they had overlapping characters.\n",
        "\n",
        "📚 Key takeaway: Leveraging data structures like sets not only simplified the problem but also improved performance. It's always exciting to see how small optimizations can make a big difference!"
      ],
      "metadata": {
        "id": "_h-K-24LGKab"
      }
    },
    {
      "cell_type": "code",
      "execution_count": 1,
      "metadata": {
        "colab": {
          "base_uri": "https://localhost:8080/"
        },
        "id": "v40rxncIBGs-",
        "outputId": "9e0da405-f7f3-4245-ff4a-f597cb6ac44e"
      },
      "outputs": [
        {
          "output_type": "stream",
          "name": "stdout",
          "text": [
            "YES\n",
            "NO\n"
          ]
        }
      ],
      "source": [
        "def twoStrings(s1, s2):\n",
        "    # Write your code here\n",
        "    s1 = set(s1)\n",
        "    s2 = set(s2)\n",
        "    for i in s1:\n",
        "        for j in s2:\n",
        "            if i == j:\n",
        "                return \"YES\"\n",
        "    return \"NO\"\n",
        "\n",
        "s1 = \"hello\"\n",
        "s2 = \"world\"\n",
        "result = twoStrings(s1, s2)\n",
        "print(result)\n",
        "s1 = \"hi\"\n",
        "s2 = \"world\"\n",
        "result = twoStrings(s1, s2)\n",
        "print(result)"
      ]
    }
  ],
  "metadata": {
    "colab": {
      "provenance": [],
      "authorship_tag": "ABX9TyO6oSRzuKuCgdumIpu4kGNR",
      "include_colab_link": true
    },
    "kernelspec": {
      "display_name": "Python 3",
      "name": "python3"
    },
    "language_info": {
      "name": "python"
    }
  },
  "nbformat": 4,
  "nbformat_minor": 0
}