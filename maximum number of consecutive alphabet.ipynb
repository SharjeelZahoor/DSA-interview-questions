{
  "nbformat": 4,
  "nbformat_minor": 0,
  "metadata": {
    "colab": {
      "provenance": [],
      "authorship_tag": "ABX9TyOoAv8SB0pQrYvTdWC4MhW7",
      "include_colab_link": true
    },
    "kernelspec": {
      "name": "python3",
      "display_name": "Python 3"
    },
    "language_info": {
      "name": "python"
    }
  },
  "cells": [
    {
      "cell_type": "markdown",
      "metadata": {
        "id": "view-in-github",
        "colab_type": "text"
      },
      "source": [
        "<a href=\"https://colab.research.google.com/github/SharjeelZahoor/Problem-Solving-Interview-Problems/blob/main/maximum%20number%20of%20consecutive%20alphabet.ipynb\" target=\"_parent\"><img src=\"https://colab.research.google.com/assets/colab-badge.svg\" alt=\"Open In Colab\"/></a>"
      ]
    },
    {
      "cell_type": "markdown",
      "source": [
        "**Explaination at the end**"
      ],
      "metadata": {
        "id": "mTDwlHR5Fqzv"
      }
    },
    {
      "cell_type": "code",
      "execution_count": 86,
      "metadata": {
        "colab": {
          "base_uri": "https://localhost:8080/"
        },
        "id": "rSxNnLfXkqAk",
        "outputId": "46f88a01-a2cd-4929-d731-fb8a906c4d28"
      },
      "outputs": [
        {
          "output_type": "stream",
          "name": "stdout",
          "text": [
            "[3, 2, 2, 1, 4]\n",
            "4\n"
          ]
        }
      ],
      "source": [
        "def max_consecutive_alphabet(string):\n",
        "    n = len(string)\n",
        "    lst_num = []\n",
        "    count = 1\n",
        "    for i in range(1, n):\n",
        "      if ord(string[i]) - ord(string[i - 1]) == 1:\n",
        "        count += 1\n",
        "        if i != n-1:\n",
        "          continue\n",
        "      lst_num.append(count)\n",
        "      count = 1\n",
        "    print(lst_num)\n",
        "    return max(lst_num)\n",
        "\n",
        "# Test cases\n",
        "string1 = \"abcbcabecdef\"\n",
        "print(max_consecutive_alphabet(string1))\n"
      ]
    },
    {
      "cell_type": "markdown",
      "source": [
        "**Finding the Longest Consecutive Alphabetical Sequence in a String**\n",
        "\n",
        "\n",
        "The max_consecutive_alphabet function is designed to find the longest sequence of consecutive alphabetical characters in a given string. It achieves this by iterating through the string and comparing the ASCII values (using ord()) of each character to its predecessor. If the characters are consecutive (i.e., their ASCII difference is 1), the count increases. If not, the count resets, and the length of the current consecutive sequence is stored. Finally, the function returns the length of the longest sequence.\n",
        "\n",
        "**How It Works:\n",
        "Initialize Variables:**\n",
        "\n",
        "n is the length of the string.\n",
        "lst_num is an empty list to store the lengths of consecutive character sequences.\n",
        "count is set to 1 to count consecutive characters.\n",
        "Iterating Over the String:\n",
        "\n",
        "For each character from the second one onward, the function checks if it follows the previous character in alphabetical order using ord(string[i]) - ord(string[i-1]) == 1.\n",
        "If the characters are consecutive, it increments count.\n",
        "If the characters are not consecutive (or at the end of the string), it appends the current count to lst_num and resets count.\n",
        "Result:\n",
        "\n",
        "The function returns the maximum value in lst_num, which corresponds to the length of the longest sequence of consecutive alphabetical characters."
      ],
      "metadata": {
        "id": "7B0Dl2mBFV_b"
      }
    }
  ]
}