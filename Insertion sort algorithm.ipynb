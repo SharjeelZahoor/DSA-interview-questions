{
  "nbformat": 4,
  "nbformat_minor": 0,
  "metadata": {
    "colab": {
      "provenance": [],
      "authorship_tag": "ABX9TyMdve23xuLek8dxWIEGHD5W",
      "include_colab_link": true
    },
    "kernelspec": {
      "name": "python3",
      "display_name": "Python 3"
    },
    "language_info": {
      "name": "python"
    }
  },
  "cells": [
    {
      "cell_type": "markdown",
      "metadata": {
        "id": "view-in-github",
        "colab_type": "text"
      },
      "source": [
        "<a href=\"https://colab.research.google.com/github/SharjeelZahoor/DSA-interview-questions/blob/main/Insertion%20sort%20algorithm.ipynb\" target=\"_parent\"><img src=\"https://colab.research.google.com/assets/colab-badge.svg\" alt=\"Open In Colab\"/></a>"
      ]
    },
    {
      "cell_type": "markdown",
      "source": [
        "insertion sort alorthm"
      ],
      "metadata": {
        "id": "q-p9dMUHFZOS"
      }
    },
    {
      "cell_type": "code",
      "execution_count": 9,
      "metadata": {
        "colab": {
          "base_uri": "https://localhost:8080/"
        },
        "id": "Wzk0WLHKENqY",
        "outputId": "e09f6978-46dd-421e-8337-6d105b84f2d9"
      },
      "outputs": [
        {
          "output_type": "stream",
          "name": "stdout",
          "text": [
            "Sorted array is: [2, 3, 4, 12, 18, 21, 34]\n"
          ]
        }
      ],
      "source": [
        "def insertion_sort(arr):\n",
        "    for i in range(1, len(arr)):\n",
        "        temp = arr[i]\n",
        "        j = i - 1\n",
        "        while j >= 0 and temp < arr[j]:\n",
        "            arr[j + 1] = arr[j]\n",
        "            j -= 1\n",
        "        arr[j + 1] = temp\n",
        "\n",
        "arr = [4, 3, 12, 34, 2, 21, 18]\n",
        "insertion_sort(arr)\n",
        "print(\"Sorted array is:\", arr)\n"
      ]
    },
    {
      "cell_type": "code",
      "source": [],
      "metadata": {
        "id": "QV-couPIF1ER"
      },
      "execution_count": null,
      "outputs": []
    }
  ]
}