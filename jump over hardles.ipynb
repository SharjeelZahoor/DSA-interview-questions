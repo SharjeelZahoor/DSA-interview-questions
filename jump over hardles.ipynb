{
  "nbformat": 4,
  "nbformat_minor": 0,
  "metadata": {
    "colab": {
      "provenance": [],
      "authorship_tag": "ABX9TyNLBXB0qux1Pk8ygHs4SpII",
      "include_colab_link": true
    },
    "kernelspec": {
      "name": "python3",
      "display_name": "Python 3"
    },
    "language_info": {
      "name": "python"
    }
  },
  "cells": [
    {
      "cell_type": "markdown",
      "metadata": {
        "id": "view-in-github",
        "colab_type": "text"
      },
      "source": [
        "<a href=\"https://colab.research.google.com/github/SharjeelZahoor/DSA-interview-questions/blob/main/jump%20over%20hardles.ipynb\" target=\"_parent\"><img src=\"https://colab.research.google.com/assets/colab-badge.svg\" alt=\"Open In Colab\"/></a>"
      ]
    },
    {
      "cell_type": "code",
      "source": [],
      "metadata": {
        "id": "mCUIi9KRlBtb"
      },
      "execution_count": null,
      "outputs": []
    },
    {
      "cell_type": "markdown",
      "source": [
        "jump, heights of hurdles are given  "
      ],
      "metadata": {
        "id": "o-mQpU2YZKuz"
      }
    },
    {
      "cell_type": "markdown",
      "source": [
        "Each dose have power of 1 point of jump"
      ],
      "metadata": {
        "id": "eemWrkbMZi6j"
      }
    },
    {
      "cell_type": "markdown",
      "source": [
        "How many dose the person have to take to jump over hardles"
      ],
      "metadata": {
        "id": "4GeQ05ZsZWgw"
      }
    },
    {
      "cell_type": "code",
      "execution_count": 18,
      "metadata": {
        "colab": {
          "base_uri": "https://localhost:8080/"
        },
        "id": "4H7gM-jMYRSj",
        "outputId": "995dbb4d-10b7-43dd-83bd-c3d443074224"
      },
      "outputs": [
        {
          "output_type": "stream",
          "name": "stdout",
          "text": [
            "you have to take 1 dose to jump over hardles\n"
          ]
        }
      ],
      "source": [
        "def hurdleRace(jump, hardle_height):\n",
        "    # Write your code here\n",
        "    if jump >= max(hardle_height):\n",
        "        return 0\n",
        "    else:\n",
        "        print(f\"you have to take { max(hardle_height) - jump} dose to jump over hardles\")\n",
        "\n",
        "jump = 4\n",
        "hardles_height = [2, 5, 4, 5, 2]\n",
        "hurdleRace(jump, hardle_height)"
      ]
    }
  ]
}