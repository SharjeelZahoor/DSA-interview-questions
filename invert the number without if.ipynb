{
  "nbformat": 4,
  "nbformat_minor": 0,
  "metadata": {
    "colab": {
      "provenance": [],
      "authorship_tag": "ABX9TyM+EIeUo9pC2RrOWpzVE+6B",
      "include_colab_link": true
    },
    "kernelspec": {
      "name": "python3",
      "display_name": "Python 3"
    },
    "language_info": {
      "name": "python"
    }
  },
  "cells": [
    {
      "cell_type": "markdown",
      "metadata": {
        "id": "view-in-github",
        "colab_type": "text"
      },
      "source": [
        "<a href=\"https://colab.research.google.com/github/SharjeelZahoor/DSA-interview-questions/blob/main/invert%20the%20number%20without%20if.ipynb\" target=\"_parent\"><img src=\"https://colab.research.google.com/assets/colab-badge.svg\" alt=\"Open In Colab\"/></a>"
      ]
    },
    {
      "cell_type": "markdown",
      "source": [
        "input will be 100 or 101\n",
        " you have to return 101 if input is 100\n",
        " and you have to return 100 if input is 101\n",
        "\n",
        " There is a condition\n",
        " you are not allowed to use if statement"
      ],
      "metadata": {
        "id": "ee7wqImywlT-"
      }
    },
    {
      "cell_type": "markdown",
      "source": [
        "Here the input is 100 so\n",
        "201-100 = 101\n",
        "if we have input 101\n",
        "201-101 = 100"
      ],
      "metadata": {
        "id": "LfaXldKIyjlx"
      }
    },
    {
      "cell_type": "code",
      "execution_count": 2,
      "metadata": {
        "colab": {
          "base_uri": "https://localhost:8080/"
        },
        "id": "KZzEWCBAwj0i",
        "outputId": "3ecb1618-0d8a-42d4-de8f-3d5eb138a637"
      },
      "outputs": [
        {
          "output_type": "stream",
          "name": "stdout",
          "text": [
            "your output is  101\n"
          ]
        }
      ],
      "source": [
        "def invert(num):\n",
        "  return 201 - num\n",
        "\n",
        "\n",
        "print(\"your output is \", invert(100))\n"
      ]
    },
    {
      "cell_type": "markdown",
      "source": [
        "we can also be able to solve this problem using bitwise operations\n",
        "i use XOR operator."
      ],
      "metadata": {
        "id": "tEqdufxBySip"
      }
    },
    {
      "cell_type": "code",
      "source": [
        "def invert(num):\n",
        "  return num ^ 1\n",
        "\n",
        "\n",
        "print(\"your output is \", invert(101))"
      ],
      "metadata": {
        "colab": {
          "base_uri": "https://localhost:8080/"
        },
        "id": "o3xN3APpyJ0D",
        "outputId": "07d09c90-f6b5-4acf-f14b-ba18d5d049ec"
      },
      "execution_count": 4,
      "outputs": [
        {
          "output_type": "stream",
          "name": "stdout",
          "text": [
            "your output is  100\n"
          ]
        }
      ]
    }
  ]
}