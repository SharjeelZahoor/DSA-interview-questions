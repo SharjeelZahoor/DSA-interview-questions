{
  "nbformat": 4,
  "nbformat_minor": 0,
  "metadata": {
    "colab": {
      "provenance": [],
      "authorship_tag": "ABX9TyMZXnXDJYB9AFt0hMqqGzA0",
      "include_colab_link": true
    },
    "kernelspec": {
      "name": "python3",
      "display_name": "Python 3"
    },
    "language_info": {
      "name": "python"
    }
  },
  "cells": [
    {
      "cell_type": "markdown",
      "metadata": {
        "id": "view-in-github",
        "colab_type": "text"
      },
      "source": [
        "<a href=\"https://colab.research.google.com/github/SharjeelZahoor/DSA-interview-questions/blob/main/k%20times%20array%20rotation.ipynb\" target=\"_parent\"><img src=\"https://colab.research.google.com/assets/colab-badge.svg\" alt=\"Open In Colab\"/></a>"
      ]
    },
    {
      "cell_type": "markdown",
      "source": [
        "Rotate the list to the right by k steps."
      ],
      "metadata": {
        "id": "rli-3h0lyanh"
      }
    },
    {
      "cell_type": "markdown",
      "source": [
        "give the list members according to the index given in queries list"
      ],
      "metadata": {
        "id": "_XAgz_ufygg1"
      }
    },
    {
      "cell_type": "code",
      "execution_count": 1,
      "metadata": {
        "colab": {
          "base_uri": "https://localhost:8080/"
        },
        "id": "G1XBeNejx-3u",
        "outputId": "6c4714b3-30cd-441a-c000-f89c6a5a3942"
      },
      "outputs": [
        {
          "output_type": "execute_result",
          "data": {
            "text/plain": [
              "[2, 3, 1]"
            ]
          },
          "metadata": {},
          "execution_count": 1
        }
      ],
      "source": [
        "def circularArrayRotation(a, k, queries):\n",
        "    n = len(a)\n",
        "    k = k % n\n",
        "    rotated_array = a[-k:] + a[:-k]\n",
        "    # values at the specified indices\n",
        "    result =[]\n",
        "    for q in queries:\n",
        "        result.append(rotated_array[q])\n",
        "    return result\n",
        "\n",
        "\n",
        "a = [1,2,3]\n",
        "k = 2\n",
        "queries = [0,1,2]\n",
        "circularArrayRotation(a,k,queries)"
      ]
    }
  ]
}