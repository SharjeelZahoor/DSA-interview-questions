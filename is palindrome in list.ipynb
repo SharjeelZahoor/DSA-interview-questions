{
  "nbformat": 4,
  "nbformat_minor": 0,
  "metadata": {
    "colab": {
      "provenance": [],
      "authorship_tag": "ABX9TyNjxa2wrWsm9aVioKn06Qpi",
      "include_colab_link": true
    },
    "kernelspec": {
      "name": "python3",
      "display_name": "Python 3"
    },
    "language_info": {
      "name": "python"
    }
  },
  "cells": [
    {
      "cell_type": "markdown",
      "metadata": {
        "id": "view-in-github",
        "colab_type": "text"
      },
      "source": [
        "<a href=\"https://colab.research.google.com/github/SharjeelZahoor/DSA-interview-questions/blob/main/is%20palindrome%20in%20list.ipynb\" target=\"_parent\"><img src=\"https://colab.research.google.com/assets/colab-badge.svg\" alt=\"Open In Colab\"/></a>"
      ]
    },
    {
      "cell_type": "markdown",
      "source": [
        "check is there any palindrome in the list?"
      ],
      "metadata": {
        "id": "Rg6KTk2ZisJ_"
      }
    },
    {
      "cell_type": "code",
      "source": [
        "def is_palindrome(lst):\n",
        "    for s in lst:\n",
        "        reversed_str = ''\n",
        "        for i in range(len(s)-1, -1, -1):\n",
        "            reversed_str += s[i]\n",
        "        if s == reversed_str:\n",
        "            return \"YES\"\n",
        "    return \"NO\"\n",
        "\n",
        "lst = [\"sir\", \"madam\", \"ali\", 'zahra']\n",
        "result = is_palindrome(lst)\n",
        "print(result)\n",
        "\n",
        "\n",
        "\n"
      ],
      "metadata": {
        "colab": {
          "base_uri": "https://localhost:8080/"
        },
        "id": "QaGvz-5FFyt7",
        "outputId": "6561d6a1-35a8-4a61-b6c1-76852430427c"
      },
      "execution_count": 44,
      "outputs": [
        {
          "output_type": "stream",
          "name": "stdout",
          "text": [
            "YES\n"
          ]
        }
      ]
    },
    {
      "cell_type": "code",
      "source": [],
      "metadata": {
        "id": "Yb0rkpqTGRJK"
      },
      "execution_count": null,
      "outputs": []
    }
  ]
}