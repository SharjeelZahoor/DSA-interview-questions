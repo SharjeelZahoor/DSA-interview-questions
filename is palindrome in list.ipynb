{
  "nbformat": 4,
  "nbformat_minor": 0,
  "metadata": {
    "colab": {
      "provenance": [],
      "authorship_tag": "ABX9TyOeOUnMKT3uMI7Ua1hW8jPt",
      "include_colab_link": true
    },
    "kernelspec": {
      "name": "python3",
      "display_name": "Python 3"
    },
    "language_info": {
      "name": "python"
    }
  },
  "cells": [
    {
      "cell_type": "markdown",
      "metadata": {
        "id": "view-in-github",
        "colab_type": "text"
      },
      "source": [
        "<a href=\"https://colab.research.google.com/github/SharjeelZahoor/DSA-interview-questions/blob/main/is%20palindrome%20in%20list.ipynb\" target=\"_parent\"><img src=\"https://colab.research.google.com/assets/colab-badge.svg\" alt=\"Open In Colab\"/></a>"
      ]
    },
    {
      "cell_type": "code",
      "execution_count": null,
      "metadata": {
        "colab": {
          "base_uri": "https://localhost:8080/"
        },
        "id": "xSek3QL7Fo0B",
        "outputId": "ac05790a-4a47-4924-b641-d7e5763e7ee3"
      },
      "outputs": [
        {
          "output_type": "stream",
          "name": "stdout",
          "text": [
            "[1, 2, 3, 4, 5, 6, 7, 8, 9, 10]\n"
          ]
        }
      ],
      "source": [
        "lst1 = [1, 3, 5, 7, 9]\n",
        "lst2 = [2, 4, 6, 8, 10]\n",
        "lst3 = []\n",
        "\n",
        "i = 0\n",
        "j = 0\n",
        "\n",
        "# Traverse both lists and merge them in sorted order\n",
        "while i < len(lst1) and j < len(lst2):\n",
        "    if lst1[i] <= lst2[j]:\n",
        "        lst3.append(lst1[i])\n",
        "        i += 1\n",
        "    else:\n",
        "        lst3.append(lst2[j])\n",
        "        j += 1\n",
        "\n",
        "# Append any remaining elements from lst1\n",
        "while i < len(lst1):\n",
        "    lst3.append(lst1[i])\n",
        "    i += 1\n",
        "\n",
        "# Append any remaining elements from lst2\n",
        "while j < len(lst2):\n",
        "    lst3.append(lst2[j])\n",
        "    j += 1\n",
        "\n",
        "print(lst3)\n"
      ]
    },
    {
      "cell_type": "markdown",
      "source": [
        "check is there any palindrome in the list?"
      ],
      "metadata": {
        "id": "Rg6KTk2ZisJ_"
      }
    },
    {
      "cell_type": "code",
      "source": [
        "def is_palindrome(lst):\n",
        "    for s in lst:\n",
        "        reversed_str = ''\n",
        "        for i in range(len(s)-1, -1, -1):\n",
        "            reversed_str += s[i]\n",
        "        if s == reversed_str:\n",
        "            return \"YES\"\n",
        "    return \"NO\"\n",
        "\n",
        "lst = [\"sir\", \"madam\", \"ali\", 'zahra']\n",
        "result = is_palindrome(lst)\n",
        "print(result)\n",
        "\n",
        "\n",
        "\n"
      ],
      "metadata": {
        "colab": {
          "base_uri": "https://localhost:8080/"
        },
        "id": "QaGvz-5FFyt7",
        "outputId": "6561d6a1-35a8-4a61-b6c1-76852430427c"
      },
      "execution_count": 44,
      "outputs": [
        {
          "output_type": "stream",
          "name": "stdout",
          "text": [
            "YES\n"
          ]
        }
      ]
    },
    {
      "cell_type": "code",
      "source": [],
      "metadata": {
        "id": "Yb0rkpqTGRJK"
      },
      "execution_count": null,
      "outputs": []
    }
  ]
}