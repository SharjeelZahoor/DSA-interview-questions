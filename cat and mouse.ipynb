{
  "nbformat": 4,
  "nbformat_minor": 0,
  "metadata": {
    "colab": {
      "provenance": [],
      "authorship_tag": "ABX9TyO+npFYD6KzEZJztTrqXtL5",
      "include_colab_link": true
    },
    "kernelspec": {
      "name": "python3",
      "display_name": "Python 3"
    },
    "language_info": {
      "name": "python"
    }
  },
  "cells": [
    {
      "cell_type": "markdown",
      "metadata": {
        "id": "view-in-github",
        "colab_type": "text"
      },
      "source": [
        "<a href=\"https://colab.research.google.com/github/SharjeelZahoor/DSA-interview-questions/blob/main/cat%20and%20mouse.ipynb\" target=\"_parent\"><img src=\"https://colab.research.google.com/assets/colab-badge.svg\" alt=\"Open In Colab\"/></a>"
      ]
    },
    {
      "cell_type": "markdown",
      "source": [
        "PROBLEM:-   Which cat should the mouse first?\n",
        "\n",
        "If both reach at the time then the mouse will be able to escape"
      ],
      "metadata": {
        "id": "iS-4QbbX7t3X"
      }
    },
    {
      "cell_type": "code",
      "execution_count": 3,
      "metadata": {
        "colab": {
          "base_uri": "https://localhost:8080/"
        },
        "id": "fArC6lgP6lqo",
        "outputId": "9d6e4f6e-f2f8-40cd-9c10-24e6fc4221c5"
      },
      "outputs": [
        {
          "output_type": "stream",
          "name": "stdout",
          "text": [
            "Cat B\n",
            "Mouse C\n",
            "Cat A\n"
          ]
        }
      ],
      "source": [
        "def catAndMouse(x, y, z):\n",
        "\n",
        "    distance_A = abs(x-z)\n",
        "    distance_B = abs(y-z)\n",
        "\n",
        "    if distance_A < distance_B:\n",
        "        print(\"Cat A\")\n",
        "    elif distance_B < distance_A:\n",
        "        print(\"Cat B\")\n",
        "    else:\n",
        "        print(\"Mouse C\")\n",
        "\n",
        "catAndMouse(1, 2, 3)\n",
        "catAndMouse(1, 3, 2)\n",
        "catAndMouse(0, 3, 1)"
      ]
    }
  ]
}