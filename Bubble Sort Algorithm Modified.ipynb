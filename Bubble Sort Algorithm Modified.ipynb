{
  "nbformat": 4,
  "nbformat_minor": 0,
  "metadata": {
    "colab": {
      "provenance": [],
      "authorship_tag": "ABX9TyN2976Gkp+4Di9IaFadJutp",
      "include_colab_link": true
    },
    "kernelspec": {
      "name": "python3",
      "display_name": "Python 3"
    },
    "language_info": {
      "name": "python"
    }
  },
  "cells": [
    {
      "cell_type": "markdown",
      "metadata": {
        "id": "view-in-github",
        "colab_type": "text"
      },
      "source": [
        "<a href=\"https://colab.research.google.com/github/SharjeelZahoor/DSA-interview-questions/blob/main/Bubble%20Sort%20Algorithm%20Modified.ipynb\" target=\"_parent\"><img src=\"https://colab.research.google.com/assets/colab-badge.svg\" alt=\"Open In Colab\"/></a>"
      ]
    },
    {
      "cell_type": "markdown",
      "source": [
        "Modified Bubble sort algorithm to sort a **list**"
      ],
      "metadata": {
        "id": "-GKsxMkbj9K8"
      }
    },
    {
      "cell_type": "code",
      "execution_count": 7,
      "metadata": {
        "colab": {
          "base_uri": "https://localhost:8080/"
        },
        "id": "YeRKXONOi0qn",
        "outputId": "242d53cd-6954-4b44-a20e-f25ebddbadf2"
      },
      "outputs": [
        {
          "output_type": "stream",
          "name": "stdout",
          "text": [
            "[2, 3, 4, 12, 23, 32, 34, 35]\n"
          ]
        }
      ],
      "source": [
        "#modified bubble sort algorithm\n",
        "lst = [12,4,35,3,32,34,2,23]\n",
        "n = len(lst)\n",
        "for i in range(n):\n",
        "  flag = False\n",
        "  for j in range(n-i-1):\n",
        "    if lst[j] > lst[j+1]:\n",
        "      lst[j],lst[j+1] = lst[j+1],lst[j]\n",
        "      flag = True\n",
        "  if flag == False:\n",
        "    break\n",
        "print(lst)\n"
      ]
    }
  ]
}