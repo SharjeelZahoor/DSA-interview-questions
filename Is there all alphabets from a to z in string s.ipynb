{
  "cells": [
    {
      "cell_type": "markdown",
      "metadata": {
        "id": "view-in-github",
        "colab_type": "text"
      },
      "source": [
        "<a href=\"https://colab.research.google.com/github/SharjeelZahoor/Problem-Solving-Interview-Problems/blob/main/Is%20there%20all%20alphabets%20from%20a%20to%20z%20in%20string%20s.ipynb\" target=\"_parent\"><img src=\"https://colab.research.google.com/assets/colab-badge.svg\" alt=\"Open In Colab\"/></a>"
      ]
    },
    {
      "cell_type": "markdown",
      "source": [
        "Is there all alphabets from a to z in string s?"
      ],
      "metadata": {
        "id": "3eOQYc3-8dqR"
      }
    },
    {
      "cell_type": "markdown",
      "source": [
        "if yes then return Pangram other wise return not pangram"
      ],
      "metadata": {
        "id": "ja8jpw4o8vem"
      }
    },
    {
      "cell_type": "code",
      "source": [
        "def pangrams(s):\n",
        "    # Write your code here\n",
        "    s = s.lower()\n",
        "    count = 0\n",
        "    alpha = \"abcdefghijklmnopqrstuvwxyz\"\n",
        "    for char in alpha:\n",
        "        for char2 in s:\n",
        "            if char == char2:\n",
        "                count+=1\n",
        "                print(count, char2)\n",
        "                break\n",
        "    print(s.lower())\n",
        "    print(count)\n",
        "    if count == 26:\n",
        "        return \"pangram\"\n",
        "    return \"not pangram\"\n",
        "\n",
        "s = \"We promptly judged antique ivory buckles for the next prize\"\n",
        "print(pangrams(s))"
      ],
      "metadata": {
        "colab": {
          "base_uri": "https://localhost:8080/"
        },
        "id": "pKg91OTK58O1",
        "outputId": "0a995148-1eda-480c-9cf6-1b6332175144"
      },
      "execution_count": 11,
      "outputs": [
        {
          "output_type": "stream",
          "name": "stdout",
          "text": [
            "1 a\n",
            "2 b\n",
            "3 c\n",
            "4 d\n",
            "5 e\n",
            "6 f\n",
            "7 g\n",
            "8 h\n",
            "9 i\n",
            "10 j\n",
            "11 k\n",
            "12 l\n",
            "13 m\n",
            "14 n\n",
            "15 o\n",
            "16 p\n",
            "17 q\n",
            "18 r\n",
            "19 s\n",
            "20 t\n",
            "21 u\n",
            "22 v\n",
            "23 w\n",
            "24 x\n",
            "25 y\n",
            "26 z\n",
            "we promptly judged antique ivory buckles for the next prize\n",
            "26\n",
            "pangram\n"
          ]
        }
      ]
    }
  ],
  "metadata": {
    "colab": {
      "provenance": [],
      "authorship_tag": "ABX9TyMUxed03A/BzOWiB8RQBGYc",
      "include_colab_link": true
    },
    "kernelspec": {
      "display_name": "Python 3",
      "name": "python3"
    },
    "language_info": {
      "name": "python"
    }
  },
  "nbformat": 4,
  "nbformat_minor": 0
}