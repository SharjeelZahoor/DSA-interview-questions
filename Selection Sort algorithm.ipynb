{
  "nbformat": 4,
  "nbformat_minor": 0,
  "metadata": {
    "colab": {
      "provenance": [],
      "authorship_tag": "ABX9TyMQEtrAo6r3rcXEoBCaJj6/",
      "include_colab_link": true
    },
    "kernelspec": {
      "name": "python3",
      "display_name": "Python 3"
    },
    "language_info": {
      "name": "python"
    }
  },
  "cells": [
    {
      "cell_type": "markdown",
      "metadata": {
        "id": "view-in-github",
        "colab_type": "text"
      },
      "source": [
        "<a href=\"https://colab.research.google.com/github/SharjeelZahoor/DSA-interview-questions/blob/main/Selection%20Sort%20algorithm.ipynb\" target=\"_parent\"><img src=\"https://colab.research.google.com/assets/colab-badge.svg\" alt=\"Open In Colab\"/></a>"
      ]
    },
    {
      "cell_type": "markdown",
      "source": [
        "Selection sort algorithm to sort a **list**"
      ],
      "metadata": {
        "id": "-GKsxMkbj9K8"
      }
    },
    {
      "cell_type": "code",
      "execution_count": 6,
      "metadata": {
        "colab": {
          "base_uri": "https://localhost:8080/"
        },
        "id": "YeRKXONOi0qn",
        "outputId": "22f0e0cf-5d4b-4bfd-ff13-a3cc6f7f5f40"
      },
      "outputs": [
        {
          "output_type": "stream",
          "name": "stdout",
          "text": [
            "[2, 3, 4, 12, 23, 32, 34, 35]\n"
          ]
        }
      ],
      "source": [
        "#selection sort algorithm\n",
        "\n",
        "lst = [12,4,35,3,32,34,2,23]\n",
        "n = len(lst)\n",
        "for i in range(n):\n",
        "  small_num = lst[i]\n",
        "  for j in range(n):\n",
        "    if lst[j] > small_num:\n",
        "      small_num = lst[j]\n",
        "      lst[j],lst[i] = lst[i],lst[j]\n",
        "print(lst)\n",
        "\n",
        "\n"
      ]
    }
  ]
}