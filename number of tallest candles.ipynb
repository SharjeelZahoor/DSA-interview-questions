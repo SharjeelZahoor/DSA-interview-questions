{
  "nbformat": 4,
  "nbformat_minor": 0,
  "metadata": {
    "colab": {
      "provenance": [],
      "authorship_tag": "ABX9TyM23B9CcT5uPFxWxXdZZKZ/",
      "include_colab_link": true
    },
    "kernelspec": {
      "name": "python3",
      "display_name": "Python 3"
    },
    "language_info": {
      "name": "python"
    }
  },
  "cells": [
    {
      "cell_type": "markdown",
      "metadata": {
        "id": "view-in-github",
        "colab_type": "text"
      },
      "source": [
        "<a href=\"https://colab.research.google.com/github/SharjeelZahoor/DSA-interview-questions/blob/main/number%20of%20tallest%20candles.ipynb\" target=\"_parent\"><img src=\"https://colab.research.google.com/assets/colab-badge.svg\" alt=\"Open In Colab\"/></a>"
      ]
    },
    {
      "cell_type": "markdown",
      "source": [
        "list of candles is given\n",
        "Number of highest candles = ?\n"
      ],
      "metadata": {
        "id": "cHfLn8VIC8Bb"
      }
    },
    {
      "cell_type": "code",
      "execution_count": 4,
      "metadata": {
        "colab": {
          "base_uri": "https://localhost:8080/"
        },
        "id": "9-IdeYTjCYba",
        "outputId": "37526216-e83b-4139-e2e7-3f8b5fedeb90"
      },
      "outputs": [
        {
          "output_type": "stream",
          "name": "stdout",
          "text": [
            "Number of highest candles are 3\n"
          ]
        }
      ],
      "source": [
        "def birthdayCakeCandles(candles):\n",
        "    count = 0\n",
        "    x = max(candles)\n",
        "    for i in range(0, len(candles)):\n",
        "        if x == candles[i]:\n",
        "            count += 1\n",
        "    print(\"Number of highest candles are\",count)\n",
        "\n",
        "\n",
        "birthdayCakeCandles([3, 2, 1, 3, 2, 1,3])\n",
        "#"
      ]
    }
  ]
}