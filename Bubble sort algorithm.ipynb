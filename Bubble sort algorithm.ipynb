{
  "nbformat": 4,
  "nbformat_minor": 0,
  "metadata": {
    "colab": {
      "provenance": [],
      "authorship_tag": "ABX9TyPDfFPuDLOkOF7qVcd5SQl+",
      "include_colab_link": true
    },
    "kernelspec": {
      "name": "python3",
      "display_name": "Python 3"
    },
    "language_info": {
      "name": "python"
    }
  },
  "cells": [
    {
      "cell_type": "markdown",
      "metadata": {
        "id": "view-in-github",
        "colab_type": "text"
      },
      "source": [
        "<a href=\"https://colab.research.google.com/github/SharjeelZahoor/DSA-interview-questions/blob/main/Bubble%20sort%20algorithm.ipynb\" target=\"_parent\"><img src=\"https://colab.research.google.com/assets/colab-badge.svg\" alt=\"Open In Colab\"/></a>"
      ]
    },
    {
      "cell_type": "markdown",
      "source": [
        "Bubble sort algorithm to sort a list"
      ],
      "metadata": {
        "id": "-GKsxMkbj9K8"
      }
    },
    {
      "cell_type": "code",
      "execution_count": 2,
      "metadata": {
        "colab": {
          "base_uri": "https://localhost:8080/"
        },
        "id": "YeRKXONOi0qn",
        "outputId": "90e7eaed-994f-40e4-aae6-30a9414b7934"
      },
      "outputs": [
        {
          "output_type": "stream",
          "name": "stdout",
          "text": [
            "[2, 3, 4, 12, 23, 32, 34, 35]\n"
          ]
        }
      ],
      "source": [
        "#bubble sort algorithm\n",
        "\n",
        "lst = [12,4,35,3,32,34,2,23]\n",
        "n = len(lst)\n",
        "for i in range(n):\n",
        "  for j in range(n-i-1):\n",
        "    if lst[j] > lst[j+1]:\n",
        "      lst[j],lst[j+1] = lst[j+1],lst[j]\n",
        "print(lst)\n"
      ]
    }
  ]
}