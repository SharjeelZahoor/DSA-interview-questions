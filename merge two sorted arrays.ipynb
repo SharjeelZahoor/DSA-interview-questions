{
  "nbformat": 4,
  "nbformat_minor": 0,
  "metadata": {
    "colab": {
      "provenance": [],
      "authorship_tag": "ABX9TyNMr8se16/UvlFIP6umyFAa",
      "include_colab_link": true
    },
    "kernelspec": {
      "name": "python3",
      "display_name": "Python 3"
    },
    "language_info": {
      "name": "python"
    }
  },
  "cells": [
    {
      "cell_type": "markdown",
      "metadata": {
        "id": "view-in-github",
        "colab_type": "text"
      },
      "source": [
        "<a href=\"https://colab.research.google.com/github/SharjeelZahoor/DSA-interview-questions/blob/main/merge%20two%20sorted%20arrays.ipynb\" target=\"_parent\"><img src=\"https://colab.research.google.com/assets/colab-badge.svg\" alt=\"Open In Colab\"/></a>"
      ]
    },
    {
      "cell_type": "markdown",
      "source": [
        "merge two sorted array into a third array and it should also be sorted array"
      ],
      "metadata": {
        "id": "oFu7TX5BXajN"
      }
    },
    {
      "cell_type": "code",
      "execution_count": 1,
      "metadata": {
        "colab": {
          "base_uri": "https://localhost:8080/"
        },
        "id": "sCycURzgXXlB",
        "outputId": "c9818a92-cfdb-4d99-c424-0be1f3f15059"
      },
      "outputs": [
        {
          "output_type": "stream",
          "name": "stdout",
          "text": [
            "[1, 2, 3, 4, 5, 6, 7, 8, 9, 10]\n"
          ]
        }
      ],
      "source": [
        "lst1 = [1,3,5,7,9]\n",
        "lst2 = [2,4,6,8,10]\n",
        "lst3 = []\n",
        "i = 0\n",
        "j = 0\n",
        "while i < len(lst1) and j < len(lst2):\n",
        "  if lst1[i] <= lst2[j]:\n",
        "    lst3.append(lst1[i])\n",
        "    i+=1\n",
        "  else:\n",
        "    lst3.append(lst2[j])\n",
        "    j+=1\n",
        "while i < len(lst1):\n",
        "  lst3.append(lst1[i])\n",
        "  i+=1\n",
        "while j < len(lst2):\n",
        "  lst3.append(lst2[j])\n",
        "  j+=1\n",
        "\n",
        "  print(lst3)"
      ]
    },
    {
      "cell_type": "markdown",
      "source": [],
      "metadata": {
        "id": "iD6suKigXZQg"
      }
    }
  ]
}